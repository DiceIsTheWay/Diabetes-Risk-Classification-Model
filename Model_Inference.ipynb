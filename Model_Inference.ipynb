{
  "cells": [
    {
      "cell_type": "markdown",
      "metadata": {
        "id": "ppHn-co-Mnut"
      },
      "source": [
        "#Data Inference Milestone 2"
      ]
    },
    {
      "cell_type": "code",
      "execution_count": 1,
      "metadata": {
        "id": "cooTAcsDMcXc"
      },
      "outputs": [],
      "source": [
        "#Import Libraries\n",
        "import pandas as pd\n",
        "import joblib"
      ]
    },
    {
      "cell_type": "code",
      "execution_count": 2,
      "metadata": {
        "id": "3Z6mcaiOM60N"
      },
      "outputs": [],
      "source": [
        "#Load files\n",
        "pipeline = joblib.load(\"best_xgb_pipeline.pkl\")"
      ]
    },
    {
      "cell_type": "code",
      "execution_count": 3,
      "metadata": {
        "id": "Ou33Fr58NZeD"
      },
      "outputs": [],
      "source": [
        "#Data Inference 1\n",
        "df_inf = pd.DataFrame({\n",
        "    'HighBP': [1],\n",
        "    'HighChol' : [0],\n",
        "    'CholCheck' : [0],\n",
        "    'BMI' : [40],\n",
        "    'Smoker' : [1],\n",
        "    'Stroke' : [0],\n",
        "    'HeartDiseaseorAttack' : [0],\n",
        "    'PhysActivity' : [0],\n",
        "    'Fruits' : [0],\n",
        "    'Veggies' : [0],\n",
        "    'HvyAlcoholConsump' : [1],\n",
        "    'AnyHealthcare' : [0],\n",
        "    'NoDocbcCost' : [1],\n",
        "    'GenHlth' : [3],\n",
        "    'MentHlth' : [7],\n",
        "    'PhysHlth' : [9],\n",
        "    'DiffWalk' : [1],\n",
        "    'Sex' : [1],\n",
        "    'Age' : [4],\n",
        "    'Education' : [4],\n",
        "    'Income' : [5]\n",
        "})"
      ]
    },
    {
      "cell_type": "code",
      "execution_count": 4,
      "metadata": {
        "id": "7tddCWCzOiZD"
      },
      "outputs": [],
      "source": [
        "#Predict\n",
        "prediction = pipeline.predict(df_inf)"
      ]
    },
    {
      "cell_type": "code",
      "execution_count": 5,
      "metadata": {
        "colab": {
          "base_uri": "https://localhost:8080/"
        },
        "id": "oOOUFck-PD-0",
        "outputId": "42879c59-d4c8-43be-e66a-faacec476289"
      },
      "outputs": [
        {
          "name": "stdout",
          "output_type": "stream",
          "text": [
            "User_1 diprediksi akan 0\n"
          ]
        }
      ],
      "source": [
        "print(f'User_1 diprediksi akan {prediction[0]}')"
      ]
    },
    {
      "cell_type": "code",
      "execution_count": 6,
      "metadata": {
        "id": "SZDiaY7tPmfC"
      },
      "outputs": [],
      "source": [
        "#Data Inference 2\n",
        "df_inf2 = pd.DataFrame({\n",
        "    'HighBP': [1],\n",
        "    'HighChol' : [1],\n",
        "    'CholCheck' : [0],\n",
        "    'BMI' : [35],\n",
        "    'Smoker' : [1],\n",
        "    'Stroke' : [0],\n",
        "    'HeartDiseaseorAttack' : [1],\n",
        "    'PhysActivity' : [0],\n",
        "    'Fruits' : [0],\n",
        "    'Veggies' : [0],\n",
        "    'HvyAlcoholConsump' : [1],\n",
        "    'AnyHealthcare' : [0],\n",
        "    'NoDocbcCost' : [1],\n",
        "    'GenHlth' : [4],\n",
        "    'MentHlth' : [5],\n",
        "    'PhysHlth' : [17],\n",
        "    'DiffWalk' : [1],\n",
        "    'Sex' : [0],\n",
        "    'Age' : [5],\n",
        "    'Education' : [2],\n",
        "    'Income' : [3]\n",
        "})"
      ]
    },
    {
      "cell_type": "code",
      "execution_count": 7,
      "metadata": {
        "id": "-6CdyODjPzJC"
      },
      "outputs": [],
      "source": [
        "#Predict\n",
        "prediction = pipeline.predict(df_inf2)"
      ]
    },
    {
      "cell_type": "code",
      "execution_count": 8,
      "metadata": {
        "colab": {
          "base_uri": "https://localhost:8080/"
        },
        "id": "hHECp0SzP3dv",
        "outputId": "29c2e2b3-7309-47e4-9e34-11d9d3e33219"
      },
      "outputs": [
        {
          "name": "stdout",
          "output_type": "stream",
          "text": [
            "User_2 diprediksi akan 1\n"
          ]
        }
      ],
      "source": [
        "print(f'User_2 diprediksi akan {prediction[0]}')"
      ]
    },
    {
      "cell_type": "markdown",
      "metadata": {
        "id": "PPLy7vXcS9bU"
      },
      "source": [
        " **'0' artinya tidak diabetes\n",
        "'1' artinya diabetes**"
      ]
    }
  ],
  "metadata": {
    "colab": {
      "provenance": []
    },
    "kernelspec": {
      "display_name": "base",
      "language": "python",
      "name": "python3"
    },
    "language_info": {
      "codemirror_mode": {
        "name": "ipython",
        "version": 3
      },
      "file_extension": ".py",
      "mimetype": "text/x-python",
      "name": "python",
      "nbconvert_exporter": "python",
      "pygments_lexer": "ipython3",
      "version": "3.12.3"
    }
  },
  "nbformat": 4,
  "nbformat_minor": 0
}
